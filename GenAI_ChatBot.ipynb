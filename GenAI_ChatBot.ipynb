{
  "nbformat": 4,
  "nbformat_minor": 0,
  "metadata": {
    "colab": {
      "provenance": [],
      "collapsed_sections": [
        "Luc83_L83Tsx",
        "XdRcBjUUvsxg",
        "9htfdlpQQd9I",
        "_JN0oW3SFda_",
        "WRRpo8uE8e5X",
        "Qog_zx0ds2Ux",
        "OXnTXjvXYGjl",
        "jJfHogik_JmT"
      ]
    },
    "kernelspec": {
      "name": "python3",
      "display_name": "Python 3"
    },
    "language_info": {
      "name": "python"
    }
  },
  "cells": [
    {
      "cell_type": "markdown",
      "source": [
        "# Imports and Installs"
      ],
      "metadata": {
        "id": "5UBlB_gE2swx"
      }
    },
    {
      "cell_type": "code",
      "execution_count": null,
      "metadata": {
        "colab": {
          "base_uri": "https://localhost:8080/"
        },
        "id": "SmBTii3SWdwG",
        "outputId": "af4b5289-6188-4f6f-e165-2afb12262738",
        "collapsed": true
      },
      "outputs": [
        {
          "output_type": "stream",
          "name": "stdout",
          "text": [
            "Requirement already satisfied: langchain-community in /usr/local/lib/python3.11/dist-packages (0.3.17)\n",
            "Requirement already satisfied: langchain-core<1.0.0,>=0.3.34 in /usr/local/lib/python3.11/dist-packages (from langchain-community) (0.3.35)\n",
            "Requirement already satisfied: langchain<1.0.0,>=0.3.18 in /usr/local/lib/python3.11/dist-packages (from langchain-community) (0.3.18)\n",
            "Requirement already satisfied: SQLAlchemy<3,>=1.4 in /usr/local/lib/python3.11/dist-packages (from langchain-community) (2.0.38)\n",
            "Requirement already satisfied: requests<3,>=2 in /usr/local/lib/python3.11/dist-packages (from langchain-community) (2.32.3)\n",
            "Requirement already satisfied: PyYAML>=5.3 in /usr/local/lib/python3.11/dist-packages (from langchain-community) (6.0.2)\n",
            "Requirement already satisfied: aiohttp<4.0.0,>=3.8.3 in /usr/local/lib/python3.11/dist-packages (from langchain-community) (3.11.12)\n",
            "Requirement already satisfied: tenacity!=8.4.0,<10,>=8.1.0 in /usr/local/lib/python3.11/dist-packages (from langchain-community) (9.0.0)\n",
            "Requirement already satisfied: dataclasses-json<0.7,>=0.5.7 in /usr/local/lib/python3.11/dist-packages (from langchain-community) (0.6.7)\n",
            "Requirement already satisfied: pydantic-settings<3.0.0,>=2.4.0 in /usr/local/lib/python3.11/dist-packages (from langchain-community) (2.7.1)\n",
            "Requirement already satisfied: langsmith<0.4,>=0.1.125 in /usr/local/lib/python3.11/dist-packages (from langchain-community) (0.3.8)\n",
            "Requirement already satisfied: httpx-sse<1.0.0,>=0.4.0 in /usr/local/lib/python3.11/dist-packages (from langchain-community) (0.4.0)\n",
            "Requirement already satisfied: numpy<2,>=1.26.4 in /usr/local/lib/python3.11/dist-packages (from langchain-community) (1.26.4)\n",
            "Requirement already satisfied: aiohappyeyeballs>=2.3.0 in /usr/local/lib/python3.11/dist-packages (from aiohttp<4.0.0,>=3.8.3->langchain-community) (2.4.6)\n",
            "Requirement already satisfied: aiosignal>=1.1.2 in /usr/local/lib/python3.11/dist-packages (from aiohttp<4.0.0,>=3.8.3->langchain-community) (1.3.2)\n",
            "Requirement already satisfied: attrs>=17.3.0 in /usr/local/lib/python3.11/dist-packages (from aiohttp<4.0.0,>=3.8.3->langchain-community) (25.1.0)\n",
            "Requirement already satisfied: frozenlist>=1.1.1 in /usr/local/lib/python3.11/dist-packages (from aiohttp<4.0.0,>=3.8.3->langchain-community) (1.5.0)\n",
            "Requirement already satisfied: multidict<7.0,>=4.5 in /usr/local/lib/python3.11/dist-packages (from aiohttp<4.0.0,>=3.8.3->langchain-community) (6.1.0)\n",
            "Requirement already satisfied: propcache>=0.2.0 in /usr/local/lib/python3.11/dist-packages (from aiohttp<4.0.0,>=3.8.3->langchain-community) (0.2.1)\n",
            "Requirement already satisfied: yarl<2.0,>=1.17.0 in /usr/local/lib/python3.11/dist-packages (from aiohttp<4.0.0,>=3.8.3->langchain-community) (1.18.3)\n",
            "Requirement already satisfied: marshmallow<4.0.0,>=3.18.0 in /usr/local/lib/python3.11/dist-packages (from dataclasses-json<0.7,>=0.5.7->langchain-community) (3.26.1)\n",
            "Requirement already satisfied: typing-inspect<1,>=0.4.0 in /usr/local/lib/python3.11/dist-packages (from dataclasses-json<0.7,>=0.5.7->langchain-community) (0.9.0)\n",
            "Requirement already satisfied: langchain-text-splitters<1.0.0,>=0.3.6 in /usr/local/lib/python3.11/dist-packages (from langchain<1.0.0,>=0.3.18->langchain-community) (0.3.6)\n",
            "Requirement already satisfied: pydantic<3.0.0,>=2.7.4 in /usr/local/lib/python3.11/dist-packages (from langchain<1.0.0,>=0.3.18->langchain-community) (2.10.6)\n",
            "Requirement already satisfied: jsonpatch<2.0,>=1.33 in /usr/local/lib/python3.11/dist-packages (from langchain-core<1.0.0,>=0.3.34->langchain-community) (1.33)\n",
            "Requirement already satisfied: packaging<25,>=23.2 in /usr/local/lib/python3.11/dist-packages (from langchain-core<1.0.0,>=0.3.34->langchain-community) (24.2)\n",
            "Requirement already satisfied: typing-extensions>=4.7 in /usr/local/lib/python3.11/dist-packages (from langchain-core<1.0.0,>=0.3.34->langchain-community) (4.12.2)\n",
            "Requirement already satisfied: httpx<1,>=0.23.0 in /usr/local/lib/python3.11/dist-packages (from langsmith<0.4,>=0.1.125->langchain-community) (0.28.1)\n",
            "Requirement already satisfied: orjson<4.0.0,>=3.9.14 in /usr/local/lib/python3.11/dist-packages (from langsmith<0.4,>=0.1.125->langchain-community) (3.10.15)\n",
            "Requirement already satisfied: requests-toolbelt<2.0.0,>=1.0.0 in /usr/local/lib/python3.11/dist-packages (from langsmith<0.4,>=0.1.125->langchain-community) (1.0.0)\n",
            "Requirement already satisfied: zstandard<0.24.0,>=0.23.0 in /usr/local/lib/python3.11/dist-packages (from langsmith<0.4,>=0.1.125->langchain-community) (0.23.0)\n",
            "Requirement already satisfied: python-dotenv>=0.21.0 in /usr/local/lib/python3.11/dist-packages (from pydantic-settings<3.0.0,>=2.4.0->langchain-community) (1.0.1)\n",
            "Requirement already satisfied: charset-normalizer<4,>=2 in /usr/local/lib/python3.11/dist-packages (from requests<3,>=2->langchain-community) (3.4.1)\n",
            "Requirement already satisfied: idna<4,>=2.5 in /usr/local/lib/python3.11/dist-packages (from requests<3,>=2->langchain-community) (3.10)\n",
            "Requirement already satisfied: urllib3<3,>=1.21.1 in /usr/local/lib/python3.11/dist-packages (from requests<3,>=2->langchain-community) (2.3.0)\n",
            "Requirement already satisfied: certifi>=2017.4.17 in /usr/local/lib/python3.11/dist-packages (from requests<3,>=2->langchain-community) (2025.1.31)\n",
            "Requirement already satisfied: greenlet!=0.4.17 in /usr/local/lib/python3.11/dist-packages (from SQLAlchemy<3,>=1.4->langchain-community) (3.1.1)\n",
            "Requirement already satisfied: anyio in /usr/local/lib/python3.11/dist-packages (from httpx<1,>=0.23.0->langsmith<0.4,>=0.1.125->langchain-community) (3.7.1)\n",
            "Requirement already satisfied: httpcore==1.* in /usr/local/lib/python3.11/dist-packages (from httpx<1,>=0.23.0->langsmith<0.4,>=0.1.125->langchain-community) (1.0.7)\n",
            "Requirement already satisfied: h11<0.15,>=0.13 in /usr/local/lib/python3.11/dist-packages (from httpcore==1.*->httpx<1,>=0.23.0->langsmith<0.4,>=0.1.125->langchain-community) (0.14.0)\n",
            "Requirement already satisfied: jsonpointer>=1.9 in /usr/local/lib/python3.11/dist-packages (from jsonpatch<2.0,>=1.33->langchain-core<1.0.0,>=0.3.34->langchain-community) (3.0.0)\n",
            "Requirement already satisfied: annotated-types>=0.6.0 in /usr/local/lib/python3.11/dist-packages (from pydantic<3.0.0,>=2.7.4->langchain<1.0.0,>=0.3.18->langchain-community) (0.7.0)\n",
            "Requirement already satisfied: pydantic-core==2.27.2 in /usr/local/lib/python3.11/dist-packages (from pydantic<3.0.0,>=2.7.4->langchain<1.0.0,>=0.3.18->langchain-community) (2.27.2)\n",
            "Requirement already satisfied: mypy-extensions>=0.3.0 in /usr/local/lib/python3.11/dist-packages (from typing-inspect<1,>=0.4.0->dataclasses-json<0.7,>=0.5.7->langchain-community) (1.0.0)\n",
            "Requirement already satisfied: sniffio>=1.1 in /usr/local/lib/python3.11/dist-packages (from anyio->httpx<1,>=0.23.0->langsmith<0.4,>=0.1.125->langchain-community) (1.3.1)\n",
            "Requirement already satisfied: langgraph in /usr/local/lib/python3.11/dist-packages (0.2.73)\n",
            "Requirement already satisfied: langchain-core!=0.3.0,!=0.3.1,!=0.3.10,!=0.3.11,!=0.3.12,!=0.3.13,!=0.3.14,!=0.3.15,!=0.3.16,!=0.3.17,!=0.3.18,!=0.3.19,!=0.3.2,!=0.3.20,!=0.3.21,!=0.3.22,!=0.3.3,!=0.3.4,!=0.3.5,!=0.3.6,!=0.3.7,!=0.3.8,!=0.3.9,<0.4.0,>=0.2.43 in /usr/local/lib/python3.11/dist-packages (from langgraph) (0.3.35)\n",
            "Requirement already satisfied: langgraph-checkpoint<3.0.0,>=2.0.10 in /usr/local/lib/python3.11/dist-packages (from langgraph) (2.0.15)\n",
            "Requirement already satisfied: langgraph-sdk<0.2.0,>=0.1.42 in /usr/local/lib/python3.11/dist-packages (from langgraph) (0.1.51)\n",
            "Requirement already satisfied: langsmith<0.4,>=0.1.125 in /usr/local/lib/python3.11/dist-packages (from langchain-core!=0.3.0,!=0.3.1,!=0.3.10,!=0.3.11,!=0.3.12,!=0.3.13,!=0.3.14,!=0.3.15,!=0.3.16,!=0.3.17,!=0.3.18,!=0.3.19,!=0.3.2,!=0.3.20,!=0.3.21,!=0.3.22,!=0.3.3,!=0.3.4,!=0.3.5,!=0.3.6,!=0.3.7,!=0.3.8,!=0.3.9,<0.4.0,>=0.2.43->langgraph) (0.3.8)\n",
            "Requirement already satisfied: tenacity!=8.4.0,<10.0.0,>=8.1.0 in /usr/local/lib/python3.11/dist-packages (from langchain-core!=0.3.0,!=0.3.1,!=0.3.10,!=0.3.11,!=0.3.12,!=0.3.13,!=0.3.14,!=0.3.15,!=0.3.16,!=0.3.17,!=0.3.18,!=0.3.19,!=0.3.2,!=0.3.20,!=0.3.21,!=0.3.22,!=0.3.3,!=0.3.4,!=0.3.5,!=0.3.6,!=0.3.7,!=0.3.8,!=0.3.9,<0.4.0,>=0.2.43->langgraph) (9.0.0)\n",
            "Requirement already satisfied: jsonpatch<2.0,>=1.33 in /usr/local/lib/python3.11/dist-packages (from langchain-core!=0.3.0,!=0.3.1,!=0.3.10,!=0.3.11,!=0.3.12,!=0.3.13,!=0.3.14,!=0.3.15,!=0.3.16,!=0.3.17,!=0.3.18,!=0.3.19,!=0.3.2,!=0.3.20,!=0.3.21,!=0.3.22,!=0.3.3,!=0.3.4,!=0.3.5,!=0.3.6,!=0.3.7,!=0.3.8,!=0.3.9,<0.4.0,>=0.2.43->langgraph) (1.33)\n",
            "Requirement already satisfied: PyYAML>=5.3 in /usr/local/lib/python3.11/dist-packages (from langchain-core!=0.3.0,!=0.3.1,!=0.3.10,!=0.3.11,!=0.3.12,!=0.3.13,!=0.3.14,!=0.3.15,!=0.3.16,!=0.3.17,!=0.3.18,!=0.3.19,!=0.3.2,!=0.3.20,!=0.3.21,!=0.3.22,!=0.3.3,!=0.3.4,!=0.3.5,!=0.3.6,!=0.3.7,!=0.3.8,!=0.3.9,<0.4.0,>=0.2.43->langgraph) (6.0.2)\n",
            "Requirement already satisfied: packaging<25,>=23.2 in /usr/local/lib/python3.11/dist-packages (from langchain-core!=0.3.0,!=0.3.1,!=0.3.10,!=0.3.11,!=0.3.12,!=0.3.13,!=0.3.14,!=0.3.15,!=0.3.16,!=0.3.17,!=0.3.18,!=0.3.19,!=0.3.2,!=0.3.20,!=0.3.21,!=0.3.22,!=0.3.3,!=0.3.4,!=0.3.5,!=0.3.6,!=0.3.7,!=0.3.8,!=0.3.9,<0.4.0,>=0.2.43->langgraph) (24.2)\n",
            "Requirement already satisfied: typing-extensions>=4.7 in /usr/local/lib/python3.11/dist-packages (from langchain-core!=0.3.0,!=0.3.1,!=0.3.10,!=0.3.11,!=0.3.12,!=0.3.13,!=0.3.14,!=0.3.15,!=0.3.16,!=0.3.17,!=0.3.18,!=0.3.19,!=0.3.2,!=0.3.20,!=0.3.21,!=0.3.22,!=0.3.3,!=0.3.4,!=0.3.5,!=0.3.6,!=0.3.7,!=0.3.8,!=0.3.9,<0.4.0,>=0.2.43->langgraph) (4.12.2)\n",
            "Requirement already satisfied: pydantic<3.0.0,>=2.5.2 in /usr/local/lib/python3.11/dist-packages (from langchain-core!=0.3.0,!=0.3.1,!=0.3.10,!=0.3.11,!=0.3.12,!=0.3.13,!=0.3.14,!=0.3.15,!=0.3.16,!=0.3.17,!=0.3.18,!=0.3.19,!=0.3.2,!=0.3.20,!=0.3.21,!=0.3.22,!=0.3.3,!=0.3.4,!=0.3.5,!=0.3.6,!=0.3.7,!=0.3.8,!=0.3.9,<0.4.0,>=0.2.43->langgraph) (2.10.6)\n",
            "Requirement already satisfied: msgpack<2.0.0,>=1.1.0 in /usr/local/lib/python3.11/dist-packages (from langgraph-checkpoint<3.0.0,>=2.0.10->langgraph) (1.1.0)\n",
            "Requirement already satisfied: httpx>=0.25.2 in /usr/local/lib/python3.11/dist-packages (from langgraph-sdk<0.2.0,>=0.1.42->langgraph) (0.28.1)\n",
            "Requirement already satisfied: orjson>=3.10.1 in /usr/local/lib/python3.11/dist-packages (from langgraph-sdk<0.2.0,>=0.1.42->langgraph) (3.10.15)\n",
            "Requirement already satisfied: anyio in /usr/local/lib/python3.11/dist-packages (from httpx>=0.25.2->langgraph-sdk<0.2.0,>=0.1.42->langgraph) (3.7.1)\n",
            "Requirement already satisfied: certifi in /usr/local/lib/python3.11/dist-packages (from httpx>=0.25.2->langgraph-sdk<0.2.0,>=0.1.42->langgraph) (2025.1.31)\n",
            "Requirement already satisfied: httpcore==1.* in /usr/local/lib/python3.11/dist-packages (from httpx>=0.25.2->langgraph-sdk<0.2.0,>=0.1.42->langgraph) (1.0.7)\n",
            "Requirement already satisfied: idna in /usr/local/lib/python3.11/dist-packages (from httpx>=0.25.2->langgraph-sdk<0.2.0,>=0.1.42->langgraph) (3.10)\n",
            "Requirement already satisfied: h11<0.15,>=0.13 in /usr/local/lib/python3.11/dist-packages (from httpcore==1.*->httpx>=0.25.2->langgraph-sdk<0.2.0,>=0.1.42->langgraph) (0.14.0)\n",
            "Requirement already satisfied: jsonpointer>=1.9 in /usr/local/lib/python3.11/dist-packages (from jsonpatch<2.0,>=1.33->langchain-core!=0.3.0,!=0.3.1,!=0.3.10,!=0.3.11,!=0.3.12,!=0.3.13,!=0.3.14,!=0.3.15,!=0.3.16,!=0.3.17,!=0.3.18,!=0.3.19,!=0.3.2,!=0.3.20,!=0.3.21,!=0.3.22,!=0.3.3,!=0.3.4,!=0.3.5,!=0.3.6,!=0.3.7,!=0.3.8,!=0.3.9,<0.4.0,>=0.2.43->langgraph) (3.0.0)\n",
            "Requirement already satisfied: requests<3,>=2 in /usr/local/lib/python3.11/dist-packages (from langsmith<0.4,>=0.1.125->langchain-core!=0.3.0,!=0.3.1,!=0.3.10,!=0.3.11,!=0.3.12,!=0.3.13,!=0.3.14,!=0.3.15,!=0.3.16,!=0.3.17,!=0.3.18,!=0.3.19,!=0.3.2,!=0.3.20,!=0.3.21,!=0.3.22,!=0.3.3,!=0.3.4,!=0.3.5,!=0.3.6,!=0.3.7,!=0.3.8,!=0.3.9,<0.4.0,>=0.2.43->langgraph) (2.32.3)\n",
            "Requirement already satisfied: requests-toolbelt<2.0.0,>=1.0.0 in /usr/local/lib/python3.11/dist-packages (from langsmith<0.4,>=0.1.125->langchain-core!=0.3.0,!=0.3.1,!=0.3.10,!=0.3.11,!=0.3.12,!=0.3.13,!=0.3.14,!=0.3.15,!=0.3.16,!=0.3.17,!=0.3.18,!=0.3.19,!=0.3.2,!=0.3.20,!=0.3.21,!=0.3.22,!=0.3.3,!=0.3.4,!=0.3.5,!=0.3.6,!=0.3.7,!=0.3.8,!=0.3.9,<0.4.0,>=0.2.43->langgraph) (1.0.0)\n",
            "Requirement already satisfied: zstandard<0.24.0,>=0.23.0 in /usr/local/lib/python3.11/dist-packages (from langsmith<0.4,>=0.1.125->langchain-core!=0.3.0,!=0.3.1,!=0.3.10,!=0.3.11,!=0.3.12,!=0.3.13,!=0.3.14,!=0.3.15,!=0.3.16,!=0.3.17,!=0.3.18,!=0.3.19,!=0.3.2,!=0.3.20,!=0.3.21,!=0.3.22,!=0.3.3,!=0.3.4,!=0.3.5,!=0.3.6,!=0.3.7,!=0.3.8,!=0.3.9,<0.4.0,>=0.2.43->langgraph) (0.23.0)\n",
            "Requirement already satisfied: annotated-types>=0.6.0 in /usr/local/lib/python3.11/dist-packages (from pydantic<3.0.0,>=2.5.2->langchain-core!=0.3.0,!=0.3.1,!=0.3.10,!=0.3.11,!=0.3.12,!=0.3.13,!=0.3.14,!=0.3.15,!=0.3.16,!=0.3.17,!=0.3.18,!=0.3.19,!=0.3.2,!=0.3.20,!=0.3.21,!=0.3.22,!=0.3.3,!=0.3.4,!=0.3.5,!=0.3.6,!=0.3.7,!=0.3.8,!=0.3.9,<0.4.0,>=0.2.43->langgraph) (0.7.0)\n",
            "Requirement already satisfied: pydantic-core==2.27.2 in /usr/local/lib/python3.11/dist-packages (from pydantic<3.0.0,>=2.5.2->langchain-core!=0.3.0,!=0.3.1,!=0.3.10,!=0.3.11,!=0.3.12,!=0.3.13,!=0.3.14,!=0.3.15,!=0.3.16,!=0.3.17,!=0.3.18,!=0.3.19,!=0.3.2,!=0.3.20,!=0.3.21,!=0.3.22,!=0.3.3,!=0.3.4,!=0.3.5,!=0.3.6,!=0.3.7,!=0.3.8,!=0.3.9,<0.4.0,>=0.2.43->langgraph) (2.27.2)\n",
            "Requirement already satisfied: charset-normalizer<4,>=2 in /usr/local/lib/python3.11/dist-packages (from requests<3,>=2->langsmith<0.4,>=0.1.125->langchain-core!=0.3.0,!=0.3.1,!=0.3.10,!=0.3.11,!=0.3.12,!=0.3.13,!=0.3.14,!=0.3.15,!=0.3.16,!=0.3.17,!=0.3.18,!=0.3.19,!=0.3.2,!=0.3.20,!=0.3.21,!=0.3.22,!=0.3.3,!=0.3.4,!=0.3.5,!=0.3.6,!=0.3.7,!=0.3.8,!=0.3.9,<0.4.0,>=0.2.43->langgraph) (3.4.1)\n",
            "Requirement already satisfied: urllib3<3,>=1.21.1 in /usr/local/lib/python3.11/dist-packages (from requests<3,>=2->langsmith<0.4,>=0.1.125->langchain-core!=0.3.0,!=0.3.1,!=0.3.10,!=0.3.11,!=0.3.12,!=0.3.13,!=0.3.14,!=0.3.15,!=0.3.16,!=0.3.17,!=0.3.18,!=0.3.19,!=0.3.2,!=0.3.20,!=0.3.21,!=0.3.22,!=0.3.3,!=0.3.4,!=0.3.5,!=0.3.6,!=0.3.7,!=0.3.8,!=0.3.9,<0.4.0,>=0.2.43->langgraph) (2.3.0)\n",
            "Requirement already satisfied: sniffio>=1.1 in /usr/local/lib/python3.11/dist-packages (from anyio->httpx>=0.25.2->langgraph-sdk<0.2.0,>=0.1.42->langgraph) (1.3.1)\n"
          ]
        }
      ],
      "source": [
        "%pip install --upgrade --quiet langchain-google-genai\n",
        "%pip install --upgrade --quiet  wikipedia\n",
        "%pip install -U langchain-community\n",
        "%pip install -U langgraph\n",
        "\n",
        "import getpass\n",
        "import os\n",
        "\n",
        "# to set up agent\n",
        "from langchain_google_genai import GoogleGenerativeAI, ChatGoogleGenerativeAI\n",
        "from langchain_core.messages import HumanMessage, SystemMessage\n",
        "\n",
        "# for react & tools\n",
        "from langchain.agents import AgentExecutor, initialize_agent, create_react_agent, Tool\n",
        "from langchain.utilities import WikipediaAPIWrapper\n",
        "from langchain.agents import AgentType\n",
        "from langchain_core.tools import tool\n",
        "from langgraph.prebuilt import create_react_agent\n",
        "from langchain_core.tools import tool"
      ]
    },
    {
      "cell_type": "markdown",
      "source": [
        "# Setting Up OpenAPI"
      ],
      "metadata": {
        "id": "Luc83_L83Tsx"
      }
    },
    {
      "cell_type": "code",
      "source": [],
      "metadata": {
        "id": "s6He3wjH3YAM"
      },
      "execution_count": null,
      "outputs": []
    },
    {
      "cell_type": "markdown",
      "source": [
        "# Setting up Google GenAI\n",
        "Source for Google GenAI Embeddings in LangChain\n",
        "\n",
        "https://python.langchain.com/docs/integrations/text_embedding/google_generative_ai/\n",
        "\n",
        "Source to Embedding Models\n",
        "\n",
        "https://python.langchain.com/docs/integrations/text_embedding/"
      ],
      "metadata": {
        "id": "P11BCZ5vviER"
      }
    },
    {
      "cell_type": "code",
      "source": [
        "def _set_env(var: str):\n",
        "    if not os.environ.get(var):\n",
        "        os.environ[var] = getpass.getpass(f\"{var}: \")\n",
        "\n",
        "_set_env(\"GOOGLE_API_KEY\")\n",
        "\n",
        "chatbot = ChatGoogleGenerativeAI(model=\"gemini-2.0-flash\", temperature=0)"
      ],
      "metadata": {
        "id": "uDC1auJEmzla"
      },
      "execution_count": null,
      "outputs": []
    },
    {
      "cell_type": "markdown",
      "source": [
        "# Initial Test of Model\n",
        "\n",
        "List of Google AI Models\n",
        "https://ai.google.dev/gemini-api/docs/models/gemini\n"
      ],
      "metadata": {
        "id": "XdRcBjUUvsxg"
      }
    },
    {
      "cell_type": "code",
      "source": [
        "# create a message\n",
        "msg = HumanMessage(content=input(\"Hello. How can I help?\\n\"), name=\"Saranya\")\n",
        "\n",
        "# message list\n",
        "messages = [msg]\n",
        "\n",
        "chatbot.invoke(messages)\n"
      ],
      "metadata": {
        "colab": {
          "base_uri": "https://localhost:8080/"
        },
        "id": "7AirbewmnOGv",
        "outputId": "c5ed50e7-f9d3-405e-f3cf-f78c40d470ec"
      },
      "execution_count": null,
      "outputs": [
        {
          "name": "stdout",
          "output_type": "stream",
          "text": [
            "Hello. How can I help?\n",
            "what color is the sky?\n"
          ]
        },
        {
          "output_type": "execute_result",
          "data": {
            "text/plain": [
              "'Blue (most of the time).  It can also appear other colors like gray, white, orange, red, or even violet depending on the time of day and weather conditions.\\n'"
            ],
            "application/vnd.google.colaboratory.intrinsic+json": {
              "type": "string"
            }
          },
          "metadata": {},
          "execution_count": 14
        }
      ]
    },
    {
      "cell_type": "markdown",
      "source": [
        "# trying to loop to continuously ask"
      ],
      "metadata": {
        "id": "9htfdlpQQd9I"
      }
    },
    {
      "cell_type": "code",
      "source": [
        "while True:\n",
        "  #print(\"starting here\")\n",
        "  content1 = input(\"Hello. How can I help?\\n\")\n",
        "  msg = HumanMessage(content=content1, name=\"User\")\n",
        "\n",
        "\n",
        "  if content1.lower() == \"bye\":\n",
        "    print(\"Bye!\")\n",
        "    break\n",
        "\n",
        "  messages = [msg]\n",
        "  output = chatbot.invoke(messages)\n",
        "  print(output)"
      ],
      "metadata": {
        "colab": {
          "base_uri": "https://localhost:8080/"
        },
        "id": "AB6BT47nQdqC",
        "outputId": "a25f53ff-1a1e-49dc-f30b-d92a29297562"
      },
      "execution_count": null,
      "outputs": [
        {
          "output_type": "stream",
          "name": "stdout",
          "text": [
            "Hello. How can I help?\n",
            "What number comes after 2?\n",
            "3\n",
            "\n",
            "Hello. How can I help?\n",
            "What is the capital of California?\n",
            "Sacramento\n",
            "\n",
            "Hello. How can I help?\n",
            "Bye\n",
            "Bye!\n"
          ]
        }
      ]
    },
    {
      "cell_type": "markdown",
      "source": [
        "# Zero-Shot Prompting"
      ],
      "metadata": {
        "id": "_JN0oW3SFda_"
      }
    },
    {
      "cell_type": "code",
      "source": [
        "system_msg = SystemMessage(content=\"Translate what the user says into Tamil.\")\n",
        "\n",
        "while True:\n",
        "  content1 = input(\"Hello. How can I help?\\n\")\n",
        "  human_msg = HumanMessage(content=content1, name=\"User\")\n",
        "\n",
        "  if content1.lower() == \"bye\":\n",
        "    print(\"Bye!\")\n",
        "    break\n",
        "\n",
        "  messages = [system_msg, human_msg]\n",
        "  output = chatbot.invoke(messages)\n",
        "  print(output)"
      ],
      "metadata": {
        "id": "-ZP_sFcI50in",
        "colab": {
          "base_uri": "https://localhost:8080/"
        },
        "outputId": "3a562b79-7bfa-42ce-8299-8b056591c356"
      },
      "execution_count": null,
      "outputs": [
        {
          "output_type": "stream",
          "name": "stdout",
          "text": [
            "Hello. How can I help?\n",
            "Hello\n",
            "வணக்கம் (Vaṇakkam)\n",
            "\n",
            "Hello. How can I help?\n",
            "Cat\n",
            "பூனை (Pūnai)\n",
            "\n",
            "Hello. How can I help?\n",
            "School\n",
            "பள்ளி (paḷḷi)\n",
            "\n",
            "Hello. How can I help?\n",
            "bye\n",
            "Bye!\n"
          ]
        }
      ]
    },
    {
      "cell_type": "markdown",
      "source": [
        "# Few-Shot Prompting\n",
        "Few shot prompting uses input/output examples that allows for the output to be formatted as demonstrated by the system."
      ],
      "metadata": {
        "id": "WRRpo8uE8e5X"
      }
    },
    {
      "cell_type": "code",
      "source": [
        "system_msg = SystemMessage(content=\"\"\"\n",
        "Translate what the user says into Tamil.\n",
        "Examples:\n",
        "Hello // வணக்கம்\n",
        "Cat // பூனை\n",
        "School // பள்ளி\n",
        "\"\"\")\n",
        "\n",
        "while True:\n",
        "  content1 = input(\"Hello. How can I help?\\n\")\n",
        "  human_msg = HumanMessage(content=content1, name=\"User\")\n",
        "\n",
        "  if content1.lower() == \"bye\":\n",
        "    print(\"Bye!\")\n",
        "    break\n",
        "\n",
        "  messages = [system_msg, human_msg]\n",
        "  output = chatbot.invoke(messages)\n",
        "  print(output)"
      ],
      "metadata": {
        "colab": {
          "base_uri": "https://localhost:8080/"
        },
        "id": "Iglqfqrt8kwb",
        "outputId": "7b3bb392-2268-4d54-a888-28a6b81288b4"
      },
      "execution_count": null,
      "outputs": [
        {
          "output_type": "stream",
          "name": "stdout",
          "text": [
            "Hello. How can I help?\n",
            "bag\n",
            "பை\n",
            "\n",
            "Hello. How can I help?\n",
            "chair\n",
            "நாற்காலி\n",
            "\n",
            "Hello. How can I help?\n",
            "bed\n",
            "படுக்கை\n",
            "\n",
            "Hello. How can I help?\n",
            "bye\n",
            "Bye!\n"
          ]
        }
      ]
    },
    {
      "cell_type": "markdown",
      "source": [
        "# Few-Shot Prompting Use Cases\n",
        "\n",
        "**Providing medical diagnosis in a predefined format established from examples given to the chatbot**"
      ],
      "metadata": {
        "id": "Qog_zx0ds2Ux"
      }
    },
    {
      "cell_type": "code",
      "source": [
        "system_msg = SystemMessage(content=\"\"\"\n",
        "You are a doctor providing medical diagnoses to patients. Find the diagnosis and provide an explanation.\n",
        "Example:\n",
        "\n",
        "Input:\n",
        "runny nose, sneezing, congestion\n",
        "Output:\n",
        "Diagnosis: Common cold\n",
        "Explanation: The combination of fever, cough, and fatigue symptoms align with the symptoms of a common cold.\n",
        "Treatment: Cough medicine, over-the-counter products\n",
        "\n",
        "Input:\n",
        "burning pain in chest and throat, worse when lying down\n",
        "Output:\n",
        "Diagnosis: Heartburn\n",
        "Explanation: Buring chest, neck, and throat discomfort that worsens when lying down are symptoms of heartburn.\n",
        "Treatment: Omeprazole or ranitidine. Avoid fats, chocolate, and citrus.\n",
        "\"\"\")\n",
        "\n",
        "while True:\n",
        "  content1 = input(\"Hello. How can I help?\\n\")\n",
        "  human_msg = HumanMessage(content=content1, name=\"User\")\n",
        "\n",
        "  if content1.lower() == \"bye\":\n",
        "    print(\"Bye!\")\n",
        "    break\n",
        "\n",
        "  messages = [system_msg, human_msg]\n",
        "  output = chatbot.invoke(messages)\n",
        "  print(output)"
      ],
      "metadata": {
        "colab": {
          "base_uri": "https://localhost:8080/"
        },
        "collapsed": true,
        "id": "ayG7vDaotCGW",
        "outputId": "8b957b45-b6bf-4e9a-fe6e-d01c7988fc56"
      },
      "execution_count": null,
      "outputs": [
        {
          "output_type": "stream",
          "name": "stdout",
          "text": [
            "Hello. How can I help?\n",
            "nausea, sensitivity to light, head throbbing\n",
            "Diagnosis: Migraine\n",
            "Explanation: Nausea, sensitivity to light (photophobia), and throbbing head pain are classic symptoms of a migraine. \n",
            "\n",
            "Treatment: Rest in a dark, quiet room. Over-the-counter pain relievers such as ibuprofen or naproxen can help.  If over-the-counter medications are not effective, a physician may prescribe specific migraine medications (triptans or CGRP inhibitors).  It is important to discuss your symptoms and treatment options with a doctor for proper diagnosis and management.\n",
            "\n",
            "Hello. How can I help?\n",
            "nausea, confusion, dizziness\n",
            "Diagnosis: Possible Dehydration, Inner Ear Infection, or other causes.\n",
            "\n",
            "Explanation: Nausea, confusion, and dizziness can be symptoms of various conditions, including dehydration, inner ear infections (labyrinthitis or vestibular neuritis), low blood sugar, or even more serious issues like stroke or transient ischemic attack (TIA).  It's crucial to determine the underlying cause.\n",
            "\n",
            "Treatment:  I **cannot** provide specific treatment as it depends on the diagnosis.  \n",
            "\n",
            "* **If you suspect dehydration:** Drink plenty of fluids, especially electrolyte solutions.\n",
            "* **If you suspect an inner ear infection:**  You'll need to see a doctor for diagnosis and potential treatment with medication.\n",
            "* **For low blood sugar:** Consume something sugary.\n",
            "* **If the symptoms are severe, sudden, or accompanied by other symptoms like weakness on one side, slurred speech, or vision changes, call emergency services immediately.** This could indicate a stroke or TIA.\n",
            "\n",
            "**It is essential to see a doctor for a proper diagnosis and treatment plan.**  They can perform a physical exam, ask about your medical history, and potentially order tests to determine the cause of your symptoms.  Do not self-treat without consulting a medical professional.\n",
            "\n",
            "Hello. How can I help?\n",
            "sneezing, itchy eyes, runny nose\n",
            "Diagnosis: Allergic rhinitis (also known as allergies or hay fever)\n",
            "\n",
            "Explanation: Sneezing, itchy eyes, and a runny nose are classic symptoms of an allergic reaction, most likely allergic rhinitis.  This occurs when your immune system overreacts to allergens like pollen, dust mites, or pet dander.\n",
            "\n",
            "Treatment:  Over-the-counter antihistamines like cetirizine (Zyrtec), loratadine (Claritin), or fexofenadine (Allegra) can help relieve symptoms.  Nasal corticosteroid sprays like fluticasone (Flonase) are also effective.  Identifying and avoiding triggers is crucial for long-term management.  If symptoms are severe or persistent, see a doctor for further evaluation and potential allergy testing.\n",
            "\n",
            "Hello. How can I help?\n",
            "bye\n",
            "Bye!\n"
          ]
        }
      ]
    },
    {
      "cell_type": "markdown",
      "source": [
        "# Chain of Thought Prompting\n",
        "\n",
        "Multistep problems"
      ],
      "metadata": {
        "id": "OXnTXjvXYGjl"
      }
    },
    {
      "cell_type": "code",
      "source": [
        "system_msg = SystemMessage(content=\"\"\"Explain step-by-step. Answer the inputs with the following thought process.\n",
        "Input: If I have 3 bags of 5 marbles, and I give 2 marbles to 4 friends,\n",
        "how many marbles do I have left?\n",
        "Output: You have 3 x 5 = 15 marbles. You give away 2 x 4 = 8 marbles. 15 - 8 = 7\n",
        "marbles.\n",
        "\"\"\")\n",
        "\n",
        "while True:\n",
        "  content1 = input(\"Hello. How can I help?\\n\")\n",
        "  human_msg = HumanMessage(content=content1, name=\"User\")\n",
        "\n",
        "  if content1.lower() == \"bye\":\n",
        "    print(\"Bye!\")\n",
        "    break\n",
        "\n",
        "  messages = [system_msg, human_msg]\n",
        "  output = chatbot.invoke(messages)\n",
        "  print(output)"
      ],
      "metadata": {
        "id": "fGqpox5YYAiG"
      },
      "execution_count": null,
      "outputs": []
    },
    {
      "cell_type": "markdown",
      "source": [
        "# ReAct Prompting Use Case\n",
        "\n",
        "react: try to get the model to to the reasoning before getting the result.\n",
        "\n",
        "ReAct Implementation Link: https://www.youtube.com/watch?v=Eug2clsLtFs&t=703s\n",
        "\n",
        "Wikipedia tool: https://python.langchain.com/docs/integrations/tools/wikipedia/\n",
        "\n",
        "Initializing Agent Parameters Link: https://python.langchain.com/api_reference/langchain/agents/langchain.agents.initialize.initialize_agent.html"
      ],
      "metadata": {
        "id": "jJfHogik_JmT"
      }
    },
    {
      "cell_type": "code",
      "source": [
        "system_msg = SystemMessage(content=\"\"\"\n",
        "Respond using the ReAct technique of Thought, Action, Observation.\n",
        "\"\"\")\n",
        "\n",
        "wikipedia = WikipediaAPIWrapper()\n",
        "\n",
        "tools = [\n",
        "    Tool(\n",
        "        name=\"Wikipedia Search\",\n",
        "        func=wikipedia.run,\n",
        "        description=\"useful for searching Wikipedia articles.\"\n",
        "    )\n",
        "]\n",
        "\n",
        "react = initialize_agent(tools, chatbot, agent=AgentType.ZERO_SHOT_REACT_DESCRIPTION, verbose=True)\n",
        "\n",
        "question = input(\"Ask a question: \\n\")\n",
        "\n",
        "react.run(question)\n",
        "\n",
        "'''while True:\n",
        "  content1 = input(\"Hello. How can I help?\\n\")\n",
        "  human_msg = HumanMessage(content=content1, name=\"User\")\n",
        "\n",
        "  if content1.lower() == \"bye\":\n",
        "    print(\"Bye!\")\n",
        "    break\n",
        "\n",
        "  messages = [system_msg, human_msg]\n",
        "  output = chatbot.invoke(messages)\n",
        "  print(output)\n",
        "  '''"
      ],
      "metadata": {
        "colab": {
          "base_uri": "https://localhost:8080/",
          "height": 1000
        },
        "id": "t56NaYod_Nqq",
        "outputId": "10c9f251-9312-4fc8-e4a7-6dcf44215b50",
        "collapsed": true
      },
      "execution_count": null,
      "outputs": [
        {
          "output_type": "stream",
          "name": "stdout",
          "text": [
            "Ask a question: \n",
            "Who made the first personal computer?\n",
            "\n",
            "\n",
            "\u001b[1m> Entering new AgentExecutor chain...\u001b[0m\n",
            "\u001b[32;1m\u001b[1;3mI need to find out who made the first personal computer. I will use Wikipedia to search for this information.\n",
            "Action: Wikipedia Search\n",
            "Action Input: \"first personal computer\"\u001b[0m\n",
            "Observation: \u001b[36;1m\u001b[1;3mPage: Personal computer\n",
            "Summary: A personal computer, often referred to as a PC or simply computer, is a computer designed for individual use. It is typically used for tasks such as word processing, internet browsing, email, multimedia playback, and gaming. Personal computers are intended to be operated directly by an end user, rather than by a computer expert or technician. Unlike large, costly minicomputers and mainframes, time-sharing by many people at the same time is not used with personal computers. The term home computer has also been used, primarily in the late 1970s and 1980s. The advent of personal computers and the concurrent Digital Revolution have significantly affected the lives of people.\n",
            "Institutional or corporate computer owners in the 1960s had to write their own programs to do any useful work with computers. While personal computer users may develop their applications, usually these systems run commercial software, free-of-charge software (\"freeware\"), which is most often proprietary, or free and open-source software, which is provided in ready-to-run, or binary form. Software for personal computers is typically developed and distributed independently from the hardware or operating system manufacturers. Many personal computer users no longer need to write their programs to make any use of a personal computer, although end-user programming is still feasible. This contrasts with mobile systems, where software is often available only through a manufacturer-supported channel, and end-user program development may be discouraged by lack of support by the manufacturer.\n",
            "Since the early 1990s, Microsoft operating systems (first with MS-DOS and then with Windows) and CPUs based on Intel's x86 architecture – collectively called Wintel – have dominated the personal computer market, and today the term PC normally refers to the ubiquitous Wintel platform, or to Windows PCs in general (including those running ARM chips), to the point where software for Windows is marketed as \"for PC\". Alternatives to Windows occupy a minority share of the market; these include the Mac platform from Apple (running the macOS operating system), and free and open-source, Unix-like operating systems, such as Linux (including the Linux-derived ChromeOS). Other notable platforms until the 1990s were the Amiga from Commodore, the Atari ST, and the PC-98 from NEC.\n",
            "\n",
            "\n",
            "\n",
            "Page: History of personal computers\n",
            "Summary: The history of the personal computer as a mass-market consumer electronic device began with the microcomputer revolution of the 1970s.  A personal computer is one intended for interactive individual use, as opposed to a mainframe computer where the end user's requests are filtered through operating staff, or a time-sharing system in which one large processor is shared by many individuals. After the development of the microprocessor, individual personal computers were low enough in cost that they eventually became affordable consumer goods. Early personal computers – generally called microcomputers – were sold often in electronic kit form and in limited numbers, and were of interest mostly to hobbyists and technicians.\n",
            "\n",
            "Page: IBM Personal Computer AT\n",
            "Summary: The IBM Personal Computer AT (model 5170, abbreviated as IBM AT or PC/AT) was released in 1984 as the fourth model in the IBM Personal Computer line, following the IBM PC/XT and its IBM Portable PC variant. It was designed around the Intel 80286 microprocessor.\u001b[0m\n",
            "Thought:\u001b[32;1m\u001b[1;3mI need to refine my search to find out who made the first personal computer. The previous search results gave me general information about personal computers and their history, but not the specific answer to my question.\n",
            "Action: Wikipedia Search\n",
            "Action Input: \"first personal computer creator\"\u001b[0m\n",
            "Observation: \u001b[36;1m\u001b[1;3mPage: History of personal computers\n",
            "Summary: The history of the personal computer as a mass-market consumer electronic device began with the microcomputer revolution of the 1970s.  A personal computer is one intended for interactive individual use, as opposed to a mainframe computer where the end user's requests are filtered through operating staff, or a time-sharing system in which one large processor is shared by many individuals. After the development of the microprocessor, individual personal computers were low enough in cost that they eventually became affordable consumer goods. Early personal computers – generally called microcomputers – were sold often in electronic kit form and in limited numbers, and were of interest mostly to hobbyists and technicians.\n",
            "\n",
            "Page: Mark Dean (computer scientist)\n",
            "Summary: Mark E. Dean (born March 2, 1957) is an American inventor and computer engineer. He developed the ISA bus with his partner Dennis Moeller, and he led a design team for making a one-gigahertz computer processor chip. He holds three of nine PC patents for being the co-creator of the IBM personal computer released in 1981. In 1995, Dean was named the first ever African-American IBM Fellow.\n",
            "Dean was elected as a member into the National Academy of Engineering NAE in 2000 for innovative and pioneering contributions to personal computer development.\n",
            "In 2000, Mark discussed a hand held device that would be able to display media content, like a digital newspaper. In August 2011, Dean stated that he uses a tablet computer instead of a PC in his blog.\n",
            "\n",
            "Page: Melissa (computer virus)\n",
            "Summary: The Melissa virus is a mass-mailing macro virus released on or around March 26, 1999. It targets Microsoft Word and Outlook-based systems and created considerable network traffic. The virus infects computers via email; the email is titled \"Important Message From,\" followed by the current username. Upon clicking the message, the body reads, \"Here's that document you asked for. Don't show anyone else ;).\" Attached is a Word document titled \"list.doc,\" containing a list of pornographic sites and accompanying logins for each. It then mass-mails itself to the first fifty people in the user's contact list and disables multiple safeguard features on Microsoft Word and Microsoft Outlook.\n",
            "\n",
            "\u001b[0m\n",
            "Thought:\u001b[32;1m\u001b[1;3mI found that Mark Dean was a co-creator of the IBM personal computer released in 1981.\n",
            "Action: Wikipedia Search\n",
            "Action Input: \"IBM Personal Computer\"\u001b[0m\n",
            "Observation: \u001b[36;1m\u001b[1;3mPage: IBM Personal Computer\n",
            "Summary: The IBM Personal Computer (model 5150, commonly known as the IBM PC) is the first microcomputer released in the IBM PC model line and the basis for the IBM PC compatible de facto standard. Released on August 12, 1981, it was created by a team of engineers and designers at International Business Machines (IBM), directed by William C. Lowe and Philip Don Estridge in Boca Raton, Florida.\n",
            "Powered by an x86-architecture Intel 8088 processor, the machine was based on open architecture and third-party peripherals. Over time, expansion cards and software technology increased to support it. The PC had a substantial influence on the personal computer market; the specifications of the IBM PC became one of the most popular computer design standards in the world. The only significant competition it faced from a non-compatible platform throughout the 1980s was from Apple's Macintosh product line, as well as consumer-grade platforms created by companies like Commodore and Atari. Most present-day personal computers share architectural features in common with the original IBM PC, including the Intel-based Mac computers manufactured from 2006 to 2022.\n",
            "\n",
            "\n",
            "\n",
            "Page: IBM Personal Computer AT\n",
            "Summary: The IBM Personal Computer AT (model 5170, abbreviated as IBM AT or PC/AT) was released in 1984 as the fourth model in the IBM Personal Computer line, following the IBM PC/XT and its IBM Portable PC variant. It was designed around the Intel 80286 microprocessor.\n",
            "\n",
            "Page: IBM Personal Computer XT\n",
            "Summary: The IBM Personal Computer XT (model 5160, often shortened to PC/XT) is the second computer in the IBM Personal Computer line, released on March 8, 1983. Except for the addition of a built-in hard drive and extra expansion slots, it is very similar to the original IBM PC model 5150 from 1981.\n",
            "\n",
            "\u001b[0m\n",
            "Thought:\u001b[32;1m\u001b[1;3mThe IBM Personal Computer (model 5150) was the first microcomputer released in the IBM PC model line. It was created by a team of engineers and designers at International Business Machines (IBM), directed by William C. Lowe and Philip Don Estridge.\n",
            "Final Answer: The IBM Personal Computer (model 5150) was created by a team of engineers and designers at International Business Machines (IBM), directed by William C. Lowe and Philip Don Estridge.\u001b[0m\n",
            "\n",
            "\u001b[1m> Finished chain.\u001b[0m\n"
          ]
        },
        {
          "output_type": "execute_result",
          "data": {
            "text/plain": [
              "'while True:\\n  content1 = input(\"Hello. How can I help?\\n\")\\n  human_msg = HumanMessage(content=content1, name=\"User\")\\n\\n  if content1.lower() == \"bye\":\\n    print(\"Bye!\")\\n    break\\n\\n  messages = [system_msg, human_msg]\\n  output = chatbot.invoke(messages)\\n  print(output)\\n  '"
            ],
            "application/vnd.google.colaboratory.intrinsic+json": {
              "type": "string"
            }
          },
          "metadata": {},
          "execution_count": 64
        }
      ]
    },
    {
      "cell_type": "markdown",
      "source": [
        "# Calculator\n",
        "\n",
        "Custom Tool Calling: https://www.youtube.com/watch?v=zCwuAlpQKTM\n",
        "\n",
        "https://python.langchain.com/docs/how_to/tool_calling/\n",
        "\n",
        "https://python.langchain.com/docs/integrations/chat/\n",
        "\n",
        "https://python.langchain.com/docs/integrations/chat/google_generative_ai/\n",
        "\n",
        "Prebuilt React Agent: https://langchain-ai.github.io/langgraph/how-tos/create-react-agent/#code"
      ],
      "metadata": {
        "id": "q9XdWDmKldVN"
      }
    },
    {
      "cell_type": "code",
      "source": [
        "# tools\n",
        "@tool\n",
        "def add(a: int, b: int) -> int:\n",
        "  '''Adds two numbers.'''\n",
        "  return a + b\n",
        "\n",
        "\n",
        "@tool\n",
        "def multiply(a: int, b: int) -> int:\n",
        "  '''Multiplies two numbers.'''\n",
        "  return a * b\n",
        "\n",
        "@tool\n",
        "def divide(a: int, b:int):\n",
        "  '''Divides two numbers'''\n",
        "  return a / b\n",
        "\n",
        "# using tool calling\n",
        "custom_tools = [add, multiply, divide]\n",
        "\n",
        "# using prebuilt react\n",
        "pre_agent = create_react_agent(chatbot, tools=custom_tools)\n",
        "inputs = {\"messages\": [(\"user\", \"add 2 and 3\")]}\n",
        "print_stream(pre_agent.stream(inputs, stream_mode=\"values\"))\n",
        "\n",
        "\n",
        "# '''\n",
        "# chat_w_tools = chatbot.bind_tools(tools)\n",
        "\n",
        "# query = input(\"Ask a question: \\n\")\n",
        "# chat_w_tools.invoke(query)\n",
        "\n",
        "\n",
        "# # using agent\n",
        "# agent = initialize_agent(tools, chatbot, agent=AgentType.OPENAI_MULTI_FUNCTIONS, verbose=True)\n",
        "# agent.run(query)\n",
        "# '''\n",
        "\n"
      ],
      "metadata": {
        "colab": {
          "base_uri": "https://localhost:8080/"
        },
        "id": "MssK2Kgdliow",
        "outputId": "5ec6bcea-5f1a-451e-ea41-46d57410a278"
      },
      "execution_count": null,
      "outputs": [
        {
          "output_type": "stream",
          "name": "stdout",
          "text": [
            "================================\u001b[1m Human Message \u001b[0m=================================\n",
            "\n",
            "add 2 and 3\n",
            "==================================\u001b[1m Ai Message \u001b[0m==================================\n",
            "Tool Calls:\n",
            "  add (3b44ffe3-b971-460c-af1f-3b9ce8169efc)\n",
            " Call ID: 3b44ffe3-b971-460c-af1f-3b9ce8169efc\n",
            "  Args:\n",
            "    a: 2.0\n",
            "    b: 3.0\n",
            "=================================\u001b[1m Tool Message \u001b[0m=================================\n",
            "Name: add\n",
            "\n",
            "5\n",
            "==================================\u001b[1m Ai Message \u001b[0m==================================\n",
            "\n",
            "The sum of 2 and 3 is 5.\n"
          ]
        }
      ]
    },
    {
      "cell_type": "markdown",
      "source": [
        "# Unit Conversion Tool"
      ],
      "metadata": {
        "id": "Y4QJwe7f-5OX"
      }
    },
    {
      "cell_type": "code",
      "source": [
        "@tool\n",
        "def length_conversion(value: float, from_unit: str, to_unit: str):\n",
        "  '''Used to convert length measurements.'''\n",
        "  units = {\n",
        "      \"mm\": 0.001,\n",
        "      \"cm\": 0.01,\n",
        "      \"m\": 1,\n",
        "      \"km\": 1000,\n",
        "      \"in\": 0.0254,\n",
        "      \"ft\": 0.3048\n",
        "  }\n",
        "\n",
        "  # convert to meters\n",
        "  meters = value * units[from_unit]\n",
        "\n",
        "  # convert to desired unit\n",
        "  result = meters / units[to_unit]\n",
        "\n",
        "  return result\n",
        "\n",
        "\n",
        "@tool\n",
        "def weight_conversion(value: float, from_unit: str, to_unit: str):\n",
        "  '''Used to convert weight measurements.'''\n",
        "  units = {\n",
        "      \"kg\": 0.453592,\n",
        "      \"g\": 453.592,\n",
        "      \"lbs\": 1,\n",
        "      \"ounces\": 16,\n",
        "  }\n",
        "\n",
        "  # convert to lbs\n",
        "  pounds_val = value / units[from_unit]\n",
        "\n",
        "  # convert from lbs to specified value\n",
        "  converted_val = pounds_val * units[to_unit]\n",
        "\n",
        "  return converted_val\n",
        "\n",
        "# using tool calling\n",
        "custom_tools = [length_conversion, weight_conversion]\n",
        "\n",
        "# using prebuilt react\n",
        "pre_agent = create_react_agent(chatbot, tools=custom_tools)\n",
        "inputs = {\"messages\": [(\"user\", \"convert 2 lbs to kg\")]}\n",
        "print_stream(pre_agent.stream(inputs, stream_mode=\"values\"))"
      ],
      "metadata": {
        "colab": {
          "base_uri": "https://localhost:8080/"
        },
        "id": "4XFr0Q5x9mue",
        "outputId": "93992851-58f1-45a0-ba56-4ec801ad6528"
      },
      "execution_count": null,
      "outputs": [
        {
          "output_type": "stream",
          "name": "stdout",
          "text": [
            "================================\u001b[1m Human Message \u001b[0m=================================\n",
            "\n",
            "convert 2 lbs to kg\n",
            "==================================\u001b[1m Ai Message \u001b[0m==================================\n",
            "Tool Calls:\n",
            "  weight_conversion (4f6dedf4-34fb-47dc-bae2-f241433a96ad)\n",
            " Call ID: 4f6dedf4-34fb-47dc-bae2-f241433a96ad\n",
            "  Args:\n",
            "    value: 2.0\n",
            "    from_unit: lbs\n",
            "    to_unit: kg\n",
            "=================================\u001b[1m Tool Message \u001b[0m=================================\n",
            "Name: weight_conversion\n",
            "\n",
            "0.907184\n",
            "==================================\u001b[1m Ai Message \u001b[0m==================================\n",
            "\n",
            "2 lbs is equal to 0.907184 kg.\n"
          ]
        }
      ]
    }
  ]
}